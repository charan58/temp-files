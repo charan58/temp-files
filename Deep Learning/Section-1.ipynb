{
 "cells": [
  {
   "cell_type": "markdown",
   "id": "af58ab4f",
   "metadata": {},
   "source": [
    "## Intro to tensors"
   ]
  },
  {
   "cell_type": "code",
   "execution_count": 2,
   "id": "92ef5de4",
   "metadata": {},
   "outputs": [
    {
     "name": "stdout",
     "output_type": "stream",
     "text": [
      "2.14.0\n"
     ]
    }
   ],
   "source": [
    "import tensorflow as tf\n",
    "print(tf.__version__)"
   ]
  },
  {
   "cell_type": "code",
   "execution_count": 3,
   "id": "5203d235",
   "metadata": {},
   "outputs": [
    {
     "data": {
      "text/plain": [
       "<tf.Tensor: shape=(), dtype=int32, numpy=8>"
      ]
     },
     "execution_count": 3,
     "metadata": {},
     "output_type": "execute_result"
    }
   ],
   "source": [
    "# Create tensors with tf.constant()\n",
    "scalar=tf.constant(8)\n",
    "scalar"
   ]
  },
  {
   "cell_type": "code",
   "execution_count": 4,
   "id": "5767bf06",
   "metadata": {},
   "outputs": [
    {
     "data": {
      "text/plain": [
       "0"
      ]
     },
     "execution_count": 4,
     "metadata": {},
     "output_type": "execute_result"
    }
   ],
   "source": [
    "#Check the number of dimensions\n",
    "scalar.ndim"
   ]
  },
  {
   "cell_type": "code",
   "execution_count": 5,
   "id": "825e2401",
   "metadata": {},
   "outputs": [
    {
     "data": {
      "text/plain": [
       "<tf.Tensor: shape=(3,), dtype=int32, numpy=array([1, 4, 5])>"
      ]
     },
     "execution_count": 5,
     "metadata": {},
     "output_type": "execute_result"
    }
   ],
   "source": [
    "#Create a vector\n",
    "vector=tf.constant([1,4,5])\n",
    "vector"
   ]
  },
  {
   "cell_type": "code",
   "execution_count": 6,
   "id": "d8bea24a",
   "metadata": {},
   "outputs": [
    {
     "data": {
      "text/plain": [
       "1"
      ]
     },
     "execution_count": 6,
     "metadata": {},
     "output_type": "execute_result"
    }
   ],
   "source": [
    "vector.ndim"
   ]
  },
  {
   "cell_type": "code",
   "execution_count": 7,
   "id": "d1d5f478",
   "metadata": {},
   "outputs": [],
   "source": [
    "matrix=tf.constant([[10,7],\n",
    "                  [12,45]],dtype=tf.float32)"
   ]
  },
  {
   "cell_type": "code",
   "execution_count": 8,
   "id": "26378f29",
   "metadata": {},
   "outputs": [
    {
     "data": {
      "text/plain": [
       "2"
      ]
     },
     "execution_count": 8,
     "metadata": {},
     "output_type": "execute_result"
    }
   ],
   "source": [
    "matrix.ndim"
   ]
  },
  {
   "cell_type": "code",
   "execution_count": 9,
   "id": "82f0e980",
   "metadata": {},
   "outputs": [
    {
     "data": {
      "text/plain": [
       "<tf.Tensor: shape=(2, 2), dtype=float32, numpy=\n",
       "array([[10.,  7.],\n",
       "       [12., 45.]], dtype=float32)>"
      ]
     },
     "execution_count": 9,
     "metadata": {},
     "output_type": "execute_result"
    }
   ],
   "source": [
    "matrix"
   ]
  },
  {
   "cell_type": "code",
   "execution_count": 10,
   "id": "0090fb6c",
   "metadata": {},
   "outputs": [
    {
     "data": {
      "text/plain": [
       "TensorShape([2, 2])"
      ]
     },
     "execution_count": 10,
     "metadata": {},
     "output_type": "execute_result"
    }
   ],
   "source": [
    "matrix.shape"
   ]
  },
  {
   "cell_type": "code",
   "execution_count": 11,
   "id": "a4729ed8",
   "metadata": {},
   "outputs": [],
   "source": [
    "tensor=tf.constant([[[0, 1, 2, 3, 4],\n",
    "   [5, 6, 7, 8, 9]],\n",
    "  [[10, 11, 12, 13, 14],\n",
    "   [15, 16, 17, 18, 19]],\n",
    "  [[20, 21, 22, 23, 24],\n",
    "   [25, 26, 27, 28, 29]]])"
   ]
  },
  {
   "cell_type": "code",
   "execution_count": 12,
   "id": "05a15545",
   "metadata": {},
   "outputs": [
    {
     "data": {
      "text/plain": [
       "<tf.Tensor: shape=(3, 2, 5), dtype=int32, numpy=\n",
       "array([[[ 0,  1,  2,  3,  4],\n",
       "        [ 5,  6,  7,  8,  9]],\n",
       "\n",
       "       [[10, 11, 12, 13, 14],\n",
       "        [15, 16, 17, 18, 19]],\n",
       "\n",
       "       [[20, 21, 22, 23, 24],\n",
       "        [25, 26, 27, 28, 29]]])>"
      ]
     },
     "execution_count": 12,
     "metadata": {},
     "output_type": "execute_result"
    }
   ],
   "source": [
    "tensor"
   ]
  },
  {
   "cell_type": "code",
   "execution_count": 13,
   "id": "ea4b0451",
   "metadata": {},
   "outputs": [
    {
     "data": {
      "text/plain": [
       "3"
      ]
     },
     "execution_count": 13,
     "metadata": {},
     "output_type": "execute_result"
    }
   ],
   "source": [
    "tensor.ndim"
   ]
  },
  {
   "cell_type": "markdown",
   "id": "a43a5fe0",
   "metadata": {},
   "source": [
    "Scalar is a single number\n",
    "Vector is a number with direction\n",
    "matrix is a 2 dim array of numbers\n",
    "tensor is a n dimensional array of numbers basically its a collection of matrices"
   ]
  },
  {
   "cell_type": "markdown",
   "id": "2deac9c4",
   "metadata": {},
   "source": [
    "### with variable"
   ]
  },
  {
   "cell_type": "code",
   "execution_count": 14,
   "id": "405cd369",
   "metadata": {},
   "outputs": [
    {
     "data": {
      "text/plain": [
       "(<tf.Variable 'Variable:0' shape=(2,) dtype=int32, numpy=array([10,  7])>,\n",
       " <tf.Tensor: shape=(2,), dtype=int32, numpy=array([10,  7])>)"
      ]
     },
     "execution_count": 14,
     "metadata": {},
     "output_type": "execute_result"
    }
   ],
   "source": [
    "changable_tensor=tf.Variable([10,7])\n",
    "unchangable_tensor=tf.constant([10,7])\n",
    "changable_tensor,unchangable_tensor"
   ]
  },
  {
   "cell_type": "code",
   "execution_count": 15,
   "id": "60c8f3f8",
   "metadata": {},
   "outputs": [
    {
     "ename": "TypeError",
     "evalue": "'ResourceVariable' object does not support item assignment",
     "output_type": "error",
     "traceback": [
      "\u001b[1;31m---------------------------------------------------------------------------\u001b[0m",
      "\u001b[1;31mTypeError\u001b[0m                                 Traceback (most recent call last)",
      "Cell \u001b[1;32mIn[15], line 1\u001b[0m\n\u001b[1;32m----> 1\u001b[0m \u001b[43mchangable_tensor\u001b[49m\u001b[43m[\u001b[49m\u001b[38;5;241;43m0\u001b[39;49m\u001b[43m]\u001b[49m\u001b[38;5;241m=\u001b[39m\u001b[38;5;241m8\u001b[39m\n\u001b[0;32m      2\u001b[0m changable_tensor\n",
      "\u001b[1;31mTypeError\u001b[0m: 'ResourceVariable' object does not support item assignment"
     ]
    }
   ],
   "source": [
    "changable_tensor[0]=8\n",
    "changable_tensor"
   ]
  },
  {
   "cell_type": "code",
   "execution_count": 16,
   "id": "c23682ae",
   "metadata": {},
   "outputs": [
    {
     "data": {
      "text/plain": [
       "<tf.Variable 'Variable:0' shape=(2,) dtype=int32, numpy=array([8, 7])>"
      ]
     },
     "execution_count": 16,
     "metadata": {},
     "output_type": "execute_result"
    }
   ],
   "source": [
    "changable_tensor[0].assign(8)\n",
    "changable_tensor"
   ]
  },
  {
   "cell_type": "code",
   "execution_count": 17,
   "id": "0d963415",
   "metadata": {},
   "outputs": [
    {
     "ename": "TypeError",
     "evalue": "'tensorflow.python.framework.ops.EagerTensor' object does not support item assignment",
     "output_type": "error",
     "traceback": [
      "\u001b[1;31m---------------------------------------------------------------------------\u001b[0m",
      "\u001b[1;31mTypeError\u001b[0m                                 Traceback (most recent call last)",
      "Cell \u001b[1;32mIn[17], line 1\u001b[0m\n\u001b[1;32m----> 1\u001b[0m \u001b[43munchangable_tensor\u001b[49m\u001b[43m[\u001b[49m\u001b[38;5;241;43m0\u001b[39;49m\u001b[43m]\u001b[49m\u001b[38;5;241m=\u001b[39m\u001b[38;5;241m9\u001b[39m\n",
      "\u001b[1;31mTypeError\u001b[0m: 'tensorflow.python.framework.ops.EagerTensor' object does not support item assignment"
     ]
    }
   ],
   "source": [
    "unchangable_tensor[0]=9"
   ]
  },
  {
   "cell_type": "markdown",
   "id": "937e6543",
   "metadata": {},
   "source": [
    "## creating random tensors"
   ]
  },
  {
   "cell_type": "code",
   "execution_count": 18,
   "id": "ceb4e6b2",
   "metadata": {},
   "outputs": [
    {
     "data": {
      "text/plain": [
       "<tf.Tensor: shape=(3, 2), dtype=float32, numpy=\n",
       "array([[-0.7565803 , -0.06854702],\n",
       "       [ 0.07595026, -1.2573844 ],\n",
       "       [-0.23193763, -1.8107855 ]], dtype=float32)>"
      ]
     },
     "execution_count": 18,
     "metadata": {},
     "output_type": "execute_result"
    }
   ],
   "source": [
    "random_1=tf.random.Generator.from_seed(42)# set seed for reproducibility\n",
    "random_1=random_1.normal(shape=(3,2))\n",
    "random_1"
   ]
  },
  {
   "cell_type": "code",
   "execution_count": 19,
   "id": "4d4565bf",
   "metadata": {},
   "outputs": [
    {
     "data": {
      "text/plain": [
       "<tf.Tensor: shape=(3, 2), dtype=float32, numpy=\n",
       "array([[-0.7565803 , -0.06854702],\n",
       "       [ 0.07595026, -1.2573844 ],\n",
       "       [-0.23193763, -1.8107855 ]], dtype=float32)>"
      ]
     },
     "execution_count": 19,
     "metadata": {},
     "output_type": "execute_result"
    }
   ],
   "source": [
    "random_2=tf.random.Generator.from_seed(42)\n",
    "random_2=random_2.normal(shape=(3,2))\n",
    "random_2"
   ]
  },
  {
   "cell_type": "code",
   "execution_count": 20,
   "id": "e0201af6",
   "metadata": {},
   "outputs": [
    {
     "data": {
      "text/plain": [
       "<tf.Tensor: shape=(3, 2), dtype=float32, numpy=\n",
       "array([[0.9925091 , 0.20401764],\n",
       "       [0.26398885, 0.79402816],\n",
       "       [0.71974635, 0.47845697]], dtype=float32)>"
      ]
     },
     "execution_count": 20,
     "metadata": {},
     "output_type": "execute_result"
    }
   ],
   "source": [
    "random_3=tf.random.Generator.from_seed(23)\n",
    "random_3=random_3.uniform(shape=(3,2))\n",
    "random_3\n",
    "## Uniform probability"
   ]
  },
  {
   "cell_type": "markdown",
   "id": "2f5038e0",
   "metadata": {},
   "source": [
    "### shuffle your tensor"
   ]
  },
  {
   "cell_type": "code",
   "execution_count": 21,
   "id": "9184f26a",
   "metadata": {},
   "outputs": [],
   "source": [
    "not_shuffled=tf.constant([[1,2],\n",
    "                         [3,4],\n",
    "                         [4,5]])"
   ]
  },
  {
   "cell_type": "code",
   "execution_count": 22,
   "id": "0d41757f",
   "metadata": {},
   "outputs": [
    {
     "data": {
      "text/plain": [
       "<tf.Tensor: shape=(3, 2), dtype=int32, numpy=\n",
       "array([[1, 2],\n",
       "       [3, 4],\n",
       "       [4, 5]])>"
      ]
     },
     "execution_count": 22,
     "metadata": {},
     "output_type": "execute_result"
    }
   ],
   "source": [
    "tf.random.set_seed(45)# global level seed\n",
    "tf.random.shuffle(not_shuffled,seed=45)# op level seed\n",
    "# both are equal we can get same tensors"
   ]
  },
  {
   "cell_type": "code",
   "execution_count": 23,
   "id": "e1aea7d3",
   "metadata": {},
   "outputs": [
    {
     "data": {
      "text/plain": [
       "<tf.Tensor: shape=(3, 2), dtype=int32, numpy=\n",
       "array([[1, 2],\n",
       "       [3, 4],\n",
       "       [4, 5]])>"
      ]
     },
     "execution_count": 23,
     "metadata": {},
     "output_type": "execute_result"
    }
   ],
   "source": [
    "not_shuffled"
   ]
  },
  {
   "cell_type": "markdown",
   "id": "c4a95fb6",
   "metadata": {},
   "source": [
    "# Numpy to Tensors"
   ]
  },
  {
   "cell_type": "code",
   "execution_count": 24,
   "id": "b2094713",
   "metadata": {},
   "outputs": [
    {
     "data": {
      "text/plain": [
       "<tf.Tensor: shape=(10, 7), dtype=float32, numpy=\n",
       "array([[1., 1., 1., 1., 1., 1., 1.],\n",
       "       [1., 1., 1., 1., 1., 1., 1.],\n",
       "       [1., 1., 1., 1., 1., 1., 1.],\n",
       "       [1., 1., 1., 1., 1., 1., 1.],\n",
       "       [1., 1., 1., 1., 1., 1., 1.],\n",
       "       [1., 1., 1., 1., 1., 1., 1.],\n",
       "       [1., 1., 1., 1., 1., 1., 1.],\n",
       "       [1., 1., 1., 1., 1., 1., 1.],\n",
       "       [1., 1., 1., 1., 1., 1., 1.],\n",
       "       [1., 1., 1., 1., 1., 1., 1.]], dtype=float32)>"
      ]
     },
     "execution_count": 24,
     "metadata": {},
     "output_type": "execute_result"
    }
   ],
   "source": [
    "tf.ones([10,7])"
   ]
  },
  {
   "cell_type": "code",
   "execution_count": 25,
   "id": "0066b098",
   "metadata": {},
   "outputs": [
    {
     "data": {
      "text/plain": [
       "<tf.Tensor: shape=(8, 9), dtype=float32, numpy=\n",
       "array([[0., 0., 0., 0., 0., 0., 0., 0., 0.],\n",
       "       [0., 0., 0., 0., 0., 0., 0., 0., 0.],\n",
       "       [0., 0., 0., 0., 0., 0., 0., 0., 0.],\n",
       "       [0., 0., 0., 0., 0., 0., 0., 0., 0.],\n",
       "       [0., 0., 0., 0., 0., 0., 0., 0., 0.],\n",
       "       [0., 0., 0., 0., 0., 0., 0., 0., 0.],\n",
       "       [0., 0., 0., 0., 0., 0., 0., 0., 0.],\n",
       "       [0., 0., 0., 0., 0., 0., 0., 0., 0.]], dtype=float32)>"
      ]
     },
     "execution_count": 25,
     "metadata": {},
     "output_type": "execute_result"
    }
   ],
   "source": [
    "tf.zeros(shape=(8,9))"
   ]
  },
  {
   "cell_type": "markdown",
   "id": "914efb49",
   "metadata": {},
   "source": [
    "## Main diff is tensors can run on GPU for faster computing"
   ]
  },
  {
   "cell_type": "code",
   "execution_count": 26,
   "id": "00a77d98",
   "metadata": {},
   "outputs": [
    {
     "data": {
      "text/plain": [
       "array([ 1,  2,  3,  4,  5,  6,  7,  8,  9, 10, 11, 12, 13, 14, 15, 16, 17,\n",
       "       18, 19, 20, 21, 22, 23, 24])"
      ]
     },
     "execution_count": 26,
     "metadata": {},
     "output_type": "execute_result"
    }
   ],
   "source": [
    "import numpy as np\n",
    "numpy_A=np.arange(1,25,dtype=np.int32)\n",
    "numpy_A"
   ]
  },
  {
   "cell_type": "code",
   "execution_count": 27,
   "id": "21bfbd46",
   "metadata": {},
   "outputs": [
    {
     "data": {
      "text/plain": [
       "<tf.Tensor: shape=(2, 6, 2), dtype=int32, numpy=\n",
       "array([[[ 1,  2],\n",
       "        [ 3,  4],\n",
       "        [ 5,  6],\n",
       "        [ 7,  8],\n",
       "        [ 9, 10],\n",
       "        [11, 12]],\n",
       "\n",
       "       [[13, 14],\n",
       "        [15, 16],\n",
       "        [17, 18],\n",
       "        [19, 20],\n",
       "        [21, 22],\n",
       "        [23, 24]]])>"
      ]
     },
     "execution_count": 27,
     "metadata": {},
     "output_type": "execute_result"
    }
   ],
   "source": [
    "A=tf.constant(numpy_A,shape=(2,6,2))# numpy to tensor\n",
    "A"
   ]
  },
  {
   "cell_type": "markdown",
   "id": "949df150",
   "metadata": {},
   "source": [
    "### getting info from tensors"
   ]
  },
  {
   "cell_type": "code",
   "execution_count": 28,
   "id": "d0c05ed8",
   "metadata": {},
   "outputs": [
    {
     "data": {
      "text/plain": [
       "<tf.Tensor: shape=(2, 3, 4, 5), dtype=float32, numpy=\n",
       "array([[[[0., 0., 0., 0., 0.],\n",
       "         [0., 0., 0., 0., 0.],\n",
       "         [0., 0., 0., 0., 0.],\n",
       "         [0., 0., 0., 0., 0.]],\n",
       "\n",
       "        [[0., 0., 0., 0., 0.],\n",
       "         [0., 0., 0., 0., 0.],\n",
       "         [0., 0., 0., 0., 0.],\n",
       "         [0., 0., 0., 0., 0.]],\n",
       "\n",
       "        [[0., 0., 0., 0., 0.],\n",
       "         [0., 0., 0., 0., 0.],\n",
       "         [0., 0., 0., 0., 0.],\n",
       "         [0., 0., 0., 0., 0.]]],\n",
       "\n",
       "\n",
       "       [[[0., 0., 0., 0., 0.],\n",
       "         [0., 0., 0., 0., 0.],\n",
       "         [0., 0., 0., 0., 0.],\n",
       "         [0., 0., 0., 0., 0.]],\n",
       "\n",
       "        [[0., 0., 0., 0., 0.],\n",
       "         [0., 0., 0., 0., 0.],\n",
       "         [0., 0., 0., 0., 0.],\n",
       "         [0., 0., 0., 0., 0.]],\n",
       "\n",
       "        [[0., 0., 0., 0., 0.],\n",
       "         [0., 0., 0., 0., 0.],\n",
       "         [0., 0., 0., 0., 0.],\n",
       "         [0., 0., 0., 0., 0.]]]], dtype=float32)>"
      ]
     },
     "execution_count": 28,
     "metadata": {},
     "output_type": "execute_result"
    }
   ],
   "source": [
    "rank_4_tensor=tf.zeros(shape=(2,3,4,5))\n",
    "rank_4_tensor"
   ]
  },
  {
   "cell_type": "code",
   "execution_count": 29,
   "id": "228d997f",
   "metadata": {},
   "outputs": [
    {
     "data": {
      "text/plain": [
       "<tf.Tensor: shape=(3, 4, 5), dtype=float32, numpy=\n",
       "array([[[0., 0., 0., 0., 0.],\n",
       "        [0., 0., 0., 0., 0.],\n",
       "        [0., 0., 0., 0., 0.],\n",
       "        [0., 0., 0., 0., 0.]],\n",
       "\n",
       "       [[0., 0., 0., 0., 0.],\n",
       "        [0., 0., 0., 0., 0.],\n",
       "        [0., 0., 0., 0., 0.],\n",
       "        [0., 0., 0., 0., 0.]],\n",
       "\n",
       "       [[0., 0., 0., 0., 0.],\n",
       "        [0., 0., 0., 0., 0.],\n",
       "        [0., 0., 0., 0., 0.],\n",
       "        [0., 0., 0., 0., 0.]]], dtype=float32)>"
      ]
     },
     "execution_count": 29,
     "metadata": {},
     "output_type": "execute_result"
    }
   ],
   "source": [
    "rank_4_tensor[0]"
   ]
  },
  {
   "cell_type": "code",
   "execution_count": 30,
   "id": "d3f7bc2d",
   "metadata": {},
   "outputs": [
    {
     "data": {
      "text/plain": [
       "(4, TensorShape([2, 3, 4, 5]), <tf.Tensor: shape=(), dtype=int32, numpy=120>)"
      ]
     },
     "execution_count": 30,
     "metadata": {},
     "output_type": "execute_result"
    }
   ],
   "source": [
    "rank_4_tensor.ndim,rank_4_tensor.shape,tf.size(rank_4_tensor)"
   ]
  },
  {
   "cell_type": "markdown",
   "id": "ba4839a1",
   "metadata": {},
   "source": [
    "## Indexing Tensors"
   ]
  },
  {
   "cell_type": "code",
   "execution_count": 31,
   "id": "5f465092",
   "metadata": {},
   "outputs": [
    {
     "data": {
      "text/plain": [
       "<tf.Tensor: shape=(2, 2, 2, 2), dtype=float32, numpy=\n",
       "array([[[[0., 0.],\n",
       "         [0., 0.]],\n",
       "\n",
       "        [[0., 0.],\n",
       "         [0., 0.]]],\n",
       "\n",
       "\n",
       "       [[[0., 0.],\n",
       "         [0., 0.]],\n",
       "\n",
       "        [[0., 0.],\n",
       "         [0., 0.]]]], dtype=float32)>"
      ]
     },
     "execution_count": 31,
     "metadata": {},
     "output_type": "execute_result"
    }
   ],
   "source": [
    "rank_4_tensor[:2,:2,:2,:2]"
   ]
  },
  {
   "cell_type": "code",
   "execution_count": 32,
   "id": "93c0ac61",
   "metadata": {},
   "outputs": [
    {
     "data": {
      "text/plain": [
       "<tf.Tensor: shape=(1, 1, 1, 5), dtype=float32, numpy=array([[[[0., 0., 0., 0., 0.]]]], dtype=float32)>"
      ]
     },
     "execution_count": 32,
     "metadata": {},
     "output_type": "execute_result"
    }
   ],
   "source": [
    "# Get the first ele from each dim from each index except for last one\n",
    "rank_4_tensor[:1,:1,:1]"
   ]
  },
  {
   "cell_type": "code",
   "execution_count": 33,
   "id": "0d825f3b",
   "metadata": {},
   "outputs": [],
   "source": [
    "rank_2_tensor=tf.constant([[10,7],\n",
    "                          [4,6]])"
   ]
  },
  {
   "cell_type": "code",
   "execution_count": 34,
   "id": "3581d4fe",
   "metadata": {},
   "outputs": [
    {
     "data": {
      "text/plain": [
       "<tf.Tensor: shape=(2,), dtype=int32, numpy=array([7, 6])>"
      ]
     },
     "execution_count": 34,
     "metadata": {},
     "output_type": "execute_result"
    }
   ],
   "source": [
    "rank_2_tensor[:,-1]"
   ]
  },
  {
   "cell_type": "code",
   "execution_count": 35,
   "id": "29487093",
   "metadata": {},
   "outputs": [],
   "source": [
    "## Add extra dim\n",
    "rank_3_tensor=rank_2_tensor[...,tf.newaxis]"
   ]
  },
  {
   "cell_type": "code",
   "execution_count": 36,
   "id": "e7810080",
   "metadata": {},
   "outputs": [
    {
     "data": {
      "text/plain": [
       "3"
      ]
     },
     "execution_count": 36,
     "metadata": {},
     "output_type": "execute_result"
    }
   ],
   "source": [
    "rank_3_tensor.ndim"
   ]
  },
  {
   "cell_type": "code",
   "execution_count": 37,
   "id": "6ebd371a",
   "metadata": {},
   "outputs": [],
   "source": [
    "rank_4_tensor=rank_3_tensor[:,tf.newaxis,:,:]"
   ]
  },
  {
   "cell_type": "code",
   "execution_count": 38,
   "id": "9527b7ef",
   "metadata": {},
   "outputs": [
    {
     "data": {
      "text/plain": [
       "<tf.Tensor: shape=(2, 1, 2, 1), dtype=int32, numpy=\n",
       "array([[[[10],\n",
       "         [ 7]]],\n",
       "\n",
       "\n",
       "       [[[ 4],\n",
       "         [ 6]]]])>"
      ]
     },
     "execution_count": 38,
     "metadata": {},
     "output_type": "execute_result"
    }
   ],
   "source": [
    "rank_4_tensor"
   ]
  },
  {
   "cell_type": "code",
   "execution_count": 39,
   "id": "e0e5727d",
   "metadata": {},
   "outputs": [
    {
     "data": {
      "text/plain": [
       "<tf.Tensor: shape=(1, 2, 2), dtype=int32, numpy=\n",
       "array([[[10,  7],\n",
       "        [ 4,  6]]])>"
      ]
     },
     "execution_count": 39,
     "metadata": {},
     "output_type": "execute_result"
    }
   ],
   "source": [
    "tf.expand_dims(rank_2_tensor,axis=0)"
   ]
  },
  {
   "cell_type": "code",
   "execution_count": 40,
   "id": "80219759",
   "metadata": {},
   "outputs": [
    {
     "data": {
      "text/plain": [
       "<tf.Tensor: shape=(2, 1, 2), dtype=int32, numpy=\n",
       "array([[[10,  7]],\n",
       "\n",
       "       [[ 4,  6]]])>"
      ]
     },
     "execution_count": 40,
     "metadata": {},
     "output_type": "execute_result"
    }
   ],
   "source": [
    "tf.expand_dims(rank_2_tensor,axis=1)"
   ]
  },
  {
   "cell_type": "code",
   "execution_count": 41,
   "id": "1d37d22b",
   "metadata": {},
   "outputs": [
    {
     "data": {
      "text/plain": [
       "<tf.Tensor: shape=(2, 2, 1), dtype=int32, numpy=\n",
       "array([[[10],\n",
       "        [ 7]],\n",
       "\n",
       "       [[ 4],\n",
       "        [ 6]]])>"
      ]
     },
     "execution_count": 41,
     "metadata": {},
     "output_type": "execute_result"
    }
   ],
   "source": [
    "tf.expand_dims(rank_2_tensor,axis=-1)"
   ]
  },
  {
   "cell_type": "markdown",
   "id": "e57e1d31",
   "metadata": {},
   "source": [
    "## manipulating tensors\n",
    "### Matrix multiplication"
   ]
  },
  {
   "cell_type": "code",
   "execution_count": 42,
   "id": "5d3a5268",
   "metadata": {},
   "outputs": [
    {
     "data": {
      "text/plain": [
       "<tf.Tensor: shape=(3, 2, 5), dtype=int32, numpy=\n",
       "array([[[  0,   1,   4,   9,  16],\n",
       "        [ 25,  36,  49,  64,  81]],\n",
       "\n",
       "       [[100, 121, 144, 169, 196],\n",
       "        [225, 256, 289, 324, 361]],\n",
       "\n",
       "       [[400, 441, 484, 529, 576],\n",
       "        [625, 676, 729, 784, 841]]])>"
      ]
     },
     "execution_count": 42,
     "metadata": {},
     "output_type": "execute_result"
    }
   ],
   "source": [
    "tensor*tensor#element wise"
   ]
  },
  {
   "cell_type": "code",
   "execution_count": 43,
   "id": "8a6b8694",
   "metadata": {},
   "outputs": [],
   "source": [
    "t1=tf.constant([[10,5],\n",
    "               [3,67]])"
   ]
  },
  {
   "cell_type": "code",
   "execution_count": 44,
   "id": "e4d2f181",
   "metadata": {},
   "outputs": [
    {
     "data": {
      "text/plain": [
       "<tf.Tensor: shape=(2, 2), dtype=int32, numpy=\n",
       "array([[ 115,  385],\n",
       "       [ 231, 4504]])>"
      ]
     },
     "execution_count": 44,
     "metadata": {},
     "output_type": "execute_result"
    }
   ],
   "source": [
    "t1@t1 # with '@' operator"
   ]
  },
  {
   "cell_type": "code",
   "execution_count": 45,
   "id": "d01e6aba",
   "metadata": {},
   "outputs": [
    {
     "data": {
      "text/plain": [
       "<tf.Tensor: shape=(2, 2), dtype=int32, numpy=\n",
       "array([[ 115,  385],\n",
       "       [ 231, 4504]])>"
      ]
     },
     "execution_count": 45,
     "metadata": {},
     "output_type": "execute_result"
    }
   ],
   "source": [
    "tf.linalg.matmul(t1,t1)"
   ]
  },
  {
   "cell_type": "markdown",
   "id": "c3af436f",
   "metadata": {},
   "source": [
    "### 1. inner dim must match\n",
    "### 2. resultant tensor shape is outer dim "
   ]
  },
  {
   "cell_type": "code",
   "execution_count": 46,
   "id": "f4c29e07",
   "metadata": {},
   "outputs": [
    {
     "data": {
      "text/plain": [
       "<tf.Tensor: shape=(2, 2), dtype=int32, numpy=\n",
       "array([[ 109,  251],\n",
       "       [ 251, 4514]])>"
      ]
     },
     "execution_count": 46,
     "metadata": {},
     "output_type": "execute_result"
    }
   ],
   "source": [
    "tf.matmul(tf.transpose(t1),t1)"
   ]
  },
  {
   "cell_type": "markdown",
   "id": "00debdcd",
   "metadata": {},
   "source": [
    "### changing the dtype of tensor\n",
    "#### runs faster of float16 \n"
   ]
  },
  {
   "cell_type": "code",
   "execution_count": 47,
   "id": "46194d1f",
   "metadata": {},
   "outputs": [
    {
     "data": {
      "text/plain": [
       "tf.int32"
      ]
     },
     "execution_count": 47,
     "metadata": {},
     "output_type": "execute_result"
    }
   ],
   "source": [
    "t1.dtype"
   ]
  },
  {
   "cell_type": "code",
   "execution_count": 48,
   "id": "afbbb897",
   "metadata": {},
   "outputs": [
    {
     "data": {
      "text/plain": [
       "<tf.Tensor: shape=(2, 2), dtype=float16, numpy=\n",
       "array([[10.,  5.],\n",
       "       [ 3., 67.]], dtype=float16)>"
      ]
     },
     "execution_count": 48,
     "metadata": {},
     "output_type": "execute_result"
    }
   ],
   "source": [
    "tf.cast(t1,dtype=tf.float16)"
   ]
  },
  {
   "cell_type": "code",
   "execution_count": 49,
   "id": "a66cb0ea",
   "metadata": {},
   "outputs": [
    {
     "data": {
      "text/plain": [
       "<tf.Tensor: shape=(2, 2), dtype=int32, numpy=\n",
       "array([[10,  5],\n",
       "       [ 3, 67]])>"
      ]
     },
     "execution_count": 49,
     "metadata": {},
     "output_type": "execute_result"
    }
   ],
   "source": [
    "tf.abs(t1)"
   ]
  },
  {
   "cell_type": "code",
   "execution_count": 50,
   "id": "eb99e672",
   "metadata": {},
   "outputs": [
    {
     "data": {
      "text/plain": [
       "<tf.Tensor: shape=(50,), dtype=int32, numpy=\n",
       "array([-65,  46,  47,   5, -75, -70,   5, -75,   6, -27, -87, -95,  51,\n",
       "        32,  -9, -23,   8,  16,  52,   9, -69, -30, -21,  53,  63,  47,\n",
       "        83, -67,  26,  65,  38, -80, -26, -74,  61, -60,  94,  69,  20,\n",
       "       -85, -77,  78, -10,  49,  48, -66,  13,   6, -42,  32])>"
      ]
     },
     "execution_count": 50,
     "metadata": {},
     "output_type": "execute_result"
    }
   ],
   "source": [
    "t2=tf.constant(np.random.randint(-100,100,size=50))\n",
    "t2"
   ]
  },
  {
   "cell_type": "code",
   "execution_count": 51,
   "id": "5e09681f",
   "metadata": {},
   "outputs": [
    {
     "data": {
      "text/plain": [
       "<tf.Tensor: shape=(50,), dtype=int32, numpy=\n",
       "array([65, 46, 47,  5, 75, 70,  5, 75,  6, 27, 87, 95, 51, 32,  9, 23,  8,\n",
       "       16, 52,  9, 69, 30, 21, 53, 63, 47, 83, 67, 26, 65, 38, 80, 26, 74,\n",
       "       61, 60, 94, 69, 20, 85, 77, 78, 10, 49, 48, 66, 13,  6, 42, 32])>"
      ]
     },
     "execution_count": 51,
     "metadata": {},
     "output_type": "execute_result"
    }
   ],
   "source": [
    "tf.abs(t2)"
   ]
  },
  {
   "cell_type": "code",
   "execution_count": 52,
   "id": "947d9d49",
   "metadata": {},
   "outputs": [
    {
     "data": {
      "text/plain": [
       "-95"
      ]
     },
     "execution_count": 52,
     "metadata": {},
     "output_type": "execute_result"
    }
   ],
   "source": [
    "np.min(t2)"
   ]
  },
  {
   "cell_type": "code",
   "execution_count": 53,
   "id": "27d578f3",
   "metadata": {},
   "outputs": [
    {
     "data": {
      "text/plain": [
       "<tf.Tensor: shape=(), dtype=int32, numpy=-95>"
      ]
     },
     "execution_count": 53,
     "metadata": {},
     "output_type": "execute_result"
    }
   ],
   "source": [
    "tf.reduce_min(t2)"
   ]
  },
  {
   "cell_type": "code",
   "execution_count": 54,
   "id": "ce6edc4f",
   "metadata": {},
   "outputs": [
    {
     "data": {
      "text/plain": [
       "<tf.Tensor: shape=(), dtype=int32, numpy=94>"
      ]
     },
     "execution_count": 54,
     "metadata": {},
     "output_type": "execute_result"
    }
   ],
   "source": [
    "tf.reduce_max(t2)"
   ]
  },
  {
   "cell_type": "code",
   "execution_count": 55,
   "id": "058413b1",
   "metadata": {},
   "outputs": [
    {
     "data": {
      "text/plain": [
       "94"
      ]
     },
     "execution_count": 55,
     "metadata": {},
     "output_type": "execute_result"
    }
   ],
   "source": [
    "np.max(t2)"
   ]
  },
  {
   "cell_type": "code",
   "execution_count": 56,
   "id": "020938f4",
   "metadata": {},
   "outputs": [
    {
     "data": {
      "text/plain": [
       "<tf.Tensor: shape=(), dtype=int32, numpy=-111>"
      ]
     },
     "execution_count": 56,
     "metadata": {},
     "output_type": "execute_result"
    }
   ],
   "source": [
    "tf.reduce_sum(t2)"
   ]
  },
  {
   "cell_type": "code",
   "execution_count": 57,
   "id": "cbad240a",
   "metadata": {},
   "outputs": [
    {
     "data": {
      "text/plain": [
       "-111"
      ]
     },
     "execution_count": 57,
     "metadata": {},
     "output_type": "execute_result"
    }
   ],
   "source": [
    "np.sum(t2)"
   ]
  },
  {
   "cell_type": "code",
   "execution_count": 58,
   "id": "94a030ff",
   "metadata": {},
   "outputs": [
    {
     "data": {
      "text/plain": [
       "54.27275191106491"
      ]
     },
     "execution_count": 58,
     "metadata": {},
     "output_type": "execute_result"
    }
   ],
   "source": [
    "np.std(t2)## standard deviation"
   ]
  },
  {
   "cell_type": "code",
   "execution_count": 59,
   "id": "6a3bad83",
   "metadata": {},
   "outputs": [
    {
     "data": {
      "text/plain": [
       "2945.5316"
      ]
     },
     "execution_count": 59,
     "metadata": {},
     "output_type": "execute_result"
    }
   ],
   "source": [
    "np.std(t2)**2# variance"
   ]
  },
  {
   "cell_type": "code",
   "execution_count": 60,
   "id": "01abe712",
   "metadata": {},
   "outputs": [],
   "source": [
    "import tensorflow_probability as tfp"
   ]
  },
  {
   "cell_type": "code",
   "execution_count": 61,
   "id": "8f82032c",
   "metadata": {},
   "outputs": [
    {
     "data": {
      "text/plain": [
       "<tf.Tensor: shape=(), dtype=int32, numpy=2945>"
      ]
     },
     "execution_count": 61,
     "metadata": {},
     "output_type": "execute_result"
    }
   ],
   "source": [
    "tfp.stats.variance(t2)"
   ]
  },
  {
   "cell_type": "code",
   "execution_count": 62,
   "id": "9e60d241",
   "metadata": {},
   "outputs": [
    {
     "data": {
      "text/plain": [
       "<tf.Tensor: shape=(), dtype=float32, numpy=54.27275>"
      ]
     },
     "execution_count": 62,
     "metadata": {},
     "output_type": "execute_result"
    }
   ],
   "source": [
    "tf.math.reduce_std(tf.cast(t2,dtype=tf.float32))## convert into float 32 or 16 "
   ]
  },
  {
   "cell_type": "code",
   "execution_count": 63,
   "id": "2c413c99",
   "metadata": {},
   "outputs": [
    {
     "data": {
      "text/plain": [
       "<tf.Tensor: shape=(), dtype=int64, numpy=36>"
      ]
     },
     "execution_count": 63,
     "metadata": {},
     "output_type": "execute_result"
    }
   ],
   "source": [
    "tf.argmax(t2)"
   ]
  },
  {
   "cell_type": "code",
   "execution_count": 64,
   "id": "8462dadd",
   "metadata": {},
   "outputs": [
    {
     "data": {
      "text/plain": [
       "<tf.Tensor: shape=(), dtype=int32, numpy=94>"
      ]
     },
     "execution_count": 64,
     "metadata": {},
     "output_type": "execute_result"
    }
   ],
   "source": [
    "t2[tf.argmax(t2)]"
   ]
  },
  {
   "cell_type": "code",
   "execution_count": 65,
   "id": "7a56c1c5",
   "metadata": {},
   "outputs": [
    {
     "data": {
      "text/plain": [
       "<tf.Tensor: shape=(), dtype=bool, numpy=True>"
      ]
     },
     "execution_count": 65,
     "metadata": {},
     "output_type": "execute_result"
    }
   ],
   "source": [
    "tf.reduce_max(t2)==t2[tf.argmax(t2)].numpy()"
   ]
  },
  {
   "cell_type": "code",
   "execution_count": 66,
   "id": "ed44ba53",
   "metadata": {},
   "outputs": [
    {
     "data": {
      "text/plain": [
       "<tf.Tensor: shape=(), dtype=int64, numpy=11>"
      ]
     },
     "execution_count": 66,
     "metadata": {},
     "output_type": "execute_result"
    }
   ],
   "source": [
    "tf.argmin(t2)"
   ]
  },
  {
   "cell_type": "code",
   "execution_count": 67,
   "id": "3d568639",
   "metadata": {},
   "outputs": [
    {
     "data": {
      "text/plain": [
       "<tf.Tensor: shape=(), dtype=int32, numpy=-95>"
      ]
     },
     "execution_count": 67,
     "metadata": {},
     "output_type": "execute_result"
    }
   ],
   "source": [
    "t2[tf.argmin(t2)]"
   ]
  },
  {
   "cell_type": "code",
   "execution_count": 68,
   "id": "e38c9d2c",
   "metadata": {},
   "outputs": [],
   "source": [
    "## squeezing a tensor \n",
    "# removing all the single dims"
   ]
  },
  {
   "cell_type": "code",
   "execution_count": 69,
   "id": "db9402b3",
   "metadata": {},
   "outputs": [],
   "source": [
    "tf.random.set_seed(42)\n",
    "t3=tf.constant(tf.random.uniform(shape=[50]),shape=[1,1,1,50])"
   ]
  },
  {
   "cell_type": "code",
   "execution_count": 70,
   "id": "c8d23ef7",
   "metadata": {},
   "outputs": [
    {
     "data": {
      "text/plain": [
       "<tf.Tensor: shape=(1, 1, 1, 50), dtype=float32, numpy=\n",
       "array([[[[0.6645621 , 0.44100678, 0.3528825 , 0.46448255, 0.03366041,\n",
       "          0.68467236, 0.74011743, 0.8724445 , 0.22632635, 0.22319686,\n",
       "          0.3103881 , 0.7223358 , 0.13318717, 0.5480639 , 0.5746088 ,\n",
       "          0.8996835 , 0.00946367, 0.5212307 , 0.6345445 , 0.1993283 ,\n",
       "          0.72942245, 0.54583454, 0.10756552, 0.6767061 , 0.6602763 ,\n",
       "          0.33695042, 0.60141766, 0.21062577, 0.8527372 , 0.44062173,\n",
       "          0.9485276 , 0.23752594, 0.81179297, 0.5263394 , 0.494308  ,\n",
       "          0.21612847, 0.8457197 , 0.8718841 , 0.3083862 , 0.6868038 ,\n",
       "          0.23764038, 0.7817228 , 0.9671384 , 0.06870162, 0.79873943,\n",
       "          0.66028714, 0.5871513 , 0.16461694, 0.7381023 , 0.32054043]]]],\n",
       "      dtype=float32)>"
      ]
     },
     "execution_count": 70,
     "metadata": {},
     "output_type": "execute_result"
    }
   ],
   "source": [
    "t3"
   ]
  },
  {
   "cell_type": "code",
   "execution_count": 71,
   "id": "916a61d6",
   "metadata": {},
   "outputs": [
    {
     "data": {
      "text/plain": [
       "TensorShape([1, 1, 1, 50])"
      ]
     },
     "execution_count": 71,
     "metadata": {},
     "output_type": "execute_result"
    }
   ],
   "source": [
    "t3.shape"
   ]
  },
  {
   "cell_type": "code",
   "execution_count": 72,
   "id": "bc752a4c",
   "metadata": {},
   "outputs": [],
   "source": [
    "t3_squeezed=tf.squeeze(t3)"
   ]
  },
  {
   "cell_type": "code",
   "execution_count": 73,
   "id": "3741b0b2",
   "metadata": {},
   "outputs": [
    {
     "data": {
      "text/plain": [
       "<tf.Tensor: shape=(1, 1, 1, 50), dtype=float32, numpy=\n",
       "array([[[[0.6645621 , 0.44100678, 0.3528825 , 0.46448255, 0.03366041,\n",
       "          0.68467236, 0.74011743, 0.8724445 , 0.22632635, 0.22319686,\n",
       "          0.3103881 , 0.7223358 , 0.13318717, 0.5480639 , 0.5746088 ,\n",
       "          0.8996835 , 0.00946367, 0.5212307 , 0.6345445 , 0.1993283 ,\n",
       "          0.72942245, 0.54583454, 0.10756552, 0.6767061 , 0.6602763 ,\n",
       "          0.33695042, 0.60141766, 0.21062577, 0.8527372 , 0.44062173,\n",
       "          0.9485276 , 0.23752594, 0.81179297, 0.5263394 , 0.494308  ,\n",
       "          0.21612847, 0.8457197 , 0.8718841 , 0.3083862 , 0.6868038 ,\n",
       "          0.23764038, 0.7817228 , 0.9671384 , 0.06870162, 0.79873943,\n",
       "          0.66028714, 0.5871513 , 0.16461694, 0.7381023 , 0.32054043]]]],\n",
       "      dtype=float32)>"
      ]
     },
     "execution_count": 73,
     "metadata": {},
     "output_type": "execute_result"
    }
   ],
   "source": [
    "t3"
   ]
  },
  {
   "cell_type": "code",
   "execution_count": 74,
   "id": "e717fa6e",
   "metadata": {},
   "outputs": [
    {
     "data": {
      "text/plain": [
       "<tf.Tensor: shape=(50,), dtype=float32, numpy=\n",
       "array([0.6645621 , 0.44100678, 0.3528825 , 0.46448255, 0.03366041,\n",
       "       0.68467236, 0.74011743, 0.8724445 , 0.22632635, 0.22319686,\n",
       "       0.3103881 , 0.7223358 , 0.13318717, 0.5480639 , 0.5746088 ,\n",
       "       0.8996835 , 0.00946367, 0.5212307 , 0.6345445 , 0.1993283 ,\n",
       "       0.72942245, 0.54583454, 0.10756552, 0.6767061 , 0.6602763 ,\n",
       "       0.33695042, 0.60141766, 0.21062577, 0.8527372 , 0.44062173,\n",
       "       0.9485276 , 0.23752594, 0.81179297, 0.5263394 , 0.494308  ,\n",
       "       0.21612847, 0.8457197 , 0.8718841 , 0.3083862 , 0.6868038 ,\n",
       "       0.23764038, 0.7817228 , 0.9671384 , 0.06870162, 0.79873943,\n",
       "       0.66028714, 0.5871513 , 0.16461694, 0.7381023 , 0.32054043],\n",
       "      dtype=float32)>"
      ]
     },
     "execution_count": 74,
     "metadata": {},
     "output_type": "execute_result"
    }
   ],
   "source": [
    "t3_squeezed"
   ]
  },
  {
   "cell_type": "markdown",
   "id": "a28f9fe6",
   "metadata": {},
   "source": [
    "## One hot Encoding"
   ]
  },
  {
   "cell_type": "code",
   "execution_count": 75,
   "id": "71f3f746",
   "metadata": {},
   "outputs": [
    {
     "data": {
      "text/plain": [
       "<tf.Tensor: shape=(4, 4), dtype=float32, numpy=\n",
       "array([[1., 0., 0., 0.],\n",
       "       [0., 1., 0., 0.],\n",
       "       [0., 0., 1., 0.],\n",
       "       [0., 0., 0., 1.]], dtype=float32)>"
      ]
     },
     "execution_count": 75,
     "metadata": {},
     "output_type": "execute_result"
    }
   ],
   "source": [
    "l=[0,1,2,3]\n",
    "tf.one_hot(l,depth=4)"
   ]
  },
  {
   "cell_type": "code",
   "execution_count": 76,
   "id": "02a167ec",
   "metadata": {},
   "outputs": [
    {
     "data": {
      "text/plain": [
       "<tf.Tensor: shape=(1, 1, 1, 50), dtype=float32, numpy=\n",
       "array([[[[4.4164279e-01, 1.9448698e-01, 1.2452606e-01, 2.1574403e-01,\n",
       "          1.1330233e-03, 4.6877623e-01, 5.4777384e-01, 7.6115942e-01,\n",
       "          5.1223613e-02, 4.9816839e-02, 9.6340768e-02, 5.2176905e-01,\n",
       "          1.7738823e-02, 3.0037400e-01, 3.3017528e-01, 8.0943036e-01,\n",
       "          8.9561006e-05, 2.7168143e-01, 4.0264672e-01, 3.9731771e-02,\n",
       "          5.3205711e-01, 2.9793534e-01, 1.1570342e-02, 4.5793110e-01,\n",
       "          4.3596479e-01, 1.1353558e-01, 3.6170322e-01, 4.4363216e-02,\n",
       "          7.2716069e-01, 1.9414751e-01, 8.9970458e-01, 5.6418572e-02,\n",
       "          6.5900785e-01, 2.7703318e-01, 2.4434039e-01, 4.6711516e-02,\n",
       "          7.1524179e-01, 7.6018190e-01, 9.5102049e-02, 4.7169948e-01,\n",
       "          5.6472950e-02, 6.1109054e-01, 9.3535668e-01, 4.7199135e-03,\n",
       "          6.3798469e-01, 4.3597910e-01, 3.4474665e-01, 2.7098738e-02,\n",
       "          5.4479504e-01, 1.0274617e-01]]]], dtype=float32)>"
      ]
     },
     "execution_count": 76,
     "metadata": {},
     "output_type": "execute_result"
    }
   ],
   "source": [
    "tf.square(t3)"
   ]
  },
  {
   "cell_type": "code",
   "execution_count": null,
   "id": "10532062",
   "metadata": {},
   "outputs": [],
   "source": [
    "tf.math.sqrt(t3)"
   ]
  },
  {
   "cell_type": "code",
   "execution_count": null,
   "id": "eb275f65",
   "metadata": {
    "scrolled": true
   },
   "outputs": [],
   "source": [
    "tf.math.log(t3)"
   ]
  },
  {
   "cell_type": "code",
   "execution_count": null,
   "id": "3d926ffd",
   "metadata": {},
   "outputs": [],
   "source": [
    "#finding access to gpus\n",
    "tf.config.list_physical_devices(\"GPU\")"
   ]
  },
  {
   "cell_type": "code",
   "execution_count": null,
   "id": "18eefd4a",
   "metadata": {},
   "outputs": [],
   "source": [
    "Invidia-smi"
   ]
  },
  {
   "cell_type": "code",
   "execution_count": null,
   "id": "487131f9",
   "metadata": {},
   "outputs": [],
   "source": []
  }
 ],
 "metadata": {
  "kernelspec": {
   "display_name": "Python 3 (ipykernel)",
   "language": "python",
   "name": "python3"
  },
  "language_info": {
   "codemirror_mode": {
    "name": "ipython",
    "version": 3
   },
   "file_extension": ".py",
   "mimetype": "text/x-python",
   "name": "python",
   "nbconvert_exporter": "python",
   "pygments_lexer": "ipython3",
   "version": "3.11.3"
  }
 },
 "nbformat": 4,
 "nbformat_minor": 5
}
